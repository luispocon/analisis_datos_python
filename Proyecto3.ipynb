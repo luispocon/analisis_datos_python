{
 "cells": [
  {
   "cell_type": "code",
   "execution_count": 1,
   "id": "ea137230-c6f5-40cc-a775-c33abb19042d",
   "metadata": {},
   "outputs": [],
   "source": [
    "import pandas as pd\n",
    "import numpy as np\n",
    "import matplotlib.pyplot as plt\n",
    "import sys"
   ]
  },
  {
   "cell_type": "markdown",
   "id": "96cf545e-800a-4e79-b283-6472a43bea06",
   "metadata": {},
   "source": [
    "#### Parte 1: Numpy:\n",
    "Para los ejercicios siguientes genere el código que considere para resolver el problema que se le plantea."
   ]
  },
  {
   "cell_type": "markdown",
   "id": "c067b655-2d3d-4808-81f9-385bcc59659d",
   "metadata": {},
   "source": [
    "##### 1) ¿Cuál es el tamaño en bytes de un array de 1000 elementos de tipo booleano?"
   ]
  },
  {
   "cell_type": "code",
   "execution_count": 2,
   "id": "3b2e3b58-d332-481d-b928-6b7fc7c786bf",
   "metadata": {},
   "outputs": [],
   "source": [
    "datos =np.array( list(range(1,1000)))\n",
    "false = datos>2000 # booleano falso\n",
    "true = datos<1001 # booleano verdadero"
   ]
  },
  {
   "cell_type": "code",
   "execution_count": 3,
   "id": "0bf9be6a-8c5e-42ba-8f1a-cb4ba7e967d0",
   "metadata": {},
   "outputs": [
    {
     "name": "stdout",
     "output_type": "stream",
     "text": [
      "El tamaño en bytes del array tipo booleano 'Falso' es : 1103\n",
      "El tamaño en bytes del array tipo booleano 'verdadero' es : 1103\n"
     ]
    }
   ],
   "source": [
    "print(\"El tamaño en bytes del array tipo booleano 'Falso' es : {dato}\".format(dato =sys.getsizeof(false) ) )\n",
    "print(\"El tamaño en bytes del array tipo booleano 'verdadero' es : {dato}\".format(dato =sys.getsizeof(true) ) )"
   ]
  },
  {
   "cell_type": "markdown",
   "id": "3a0f1c77-7d50-48a5-a405-560807f97afa",
   "metadata": {},
   "source": [
    "##### 2) Cree un array cuyos elementos sean los enteros pares en [1,100] y en orden decreciente. Muestre los 10 últimos por pantalla."
   ]
  },
  {
   "cell_type": "code",
   "execution_count": 4,
   "id": "18f7cc5b-33a0-4b33-9980-1016c80c6424",
   "metadata": {},
   "outputs": [
    {
     "name": "stdout",
     "output_type": "stream",
     "text": [
      "Los 10 últimos elementos del array son [20 18 16 14 12 10  8  6  4  2]\n"
     ]
    }
   ],
   "source": [
    "elementos_array = np.array([elementos for elementos in range(100, 0, -2)])\n",
    "print(\"Los 10 últimos elementos del array son {elementos}\".format(elementos = elementos_array[-10:]) )"
   ]
  },
  {
   "cell_type": "markdown",
   "id": "0d0c9875-d432-4514-87a8-37bb9e707d68",
   "metadata": {},
   "source": [
    "##### 3) Dado el array\n",
    ">  [[2,4,5,6],[ 0,3,7,4],[8,8,5,2],[1,5,6,1]] "
   ]
  },
  {
   "cell_type": "code",
   "execution_count": 5,
   "id": "3c45b4ac-fae7-46ed-82f8-c4d6ef6929eb",
   "metadata": {},
   "outputs": [],
   "source": [
    "array =  np.array( [[2,4,5,6],[ 0,3,7,4],[8,8,5,2],[1,5,6,1]] )"
   ]
  },
  {
   "cell_type": "code",
   "execution_count": 6,
   "id": "96a4c69a-ce9f-4cea-8ebc-533bc3500157",
   "metadata": {},
   "outputs": [
    {
     "name": "stdout",
     "output_type": "stream",
     "text": [
      "seleccionando los elementos [1] del array  = [0 3 7 4] \n"
     ]
    }
   ],
   "source": [
    "print(\"seleccionando los elementos [1] del array  = {array} \".format(array = array[1]))"
   ]
  },
  {
   "cell_type": "code",
   "execution_count": 7,
   "id": "723d03a4-8ef7-4972-9878-81e39b1ca0cd",
   "metadata": {},
   "outputs": [
    {
     "name": "stdout",
     "output_type": "stream",
     "text": [
      "[2, 5] [8, 5]\n"
     ]
    }
   ],
   "source": [
    "print([array[0][0], array[0][2]]  , [array[2][0], array[2][2]])\n"
   ]
  },
  {
   "cell_type": "markdown",
   "id": "15652535-e923-456d-ade2-b8b95e3c436a",
   "metadata": {},
   "source": [
    "##### 4) Dados los arrays a = [1, 4, 2, 7] y b = [1, 3, 2, 9], obtenga la media aritmética de la diferencia (a-b)."
   ]
  },
  {
   "cell_type": "code",
   "execution_count": 8,
   "id": "2b53bcb2-cd18-40f7-be5a-acecdddb618a",
   "metadata": {},
   "outputs": [],
   "source": [
    "a = np.array([1, 4, 2, 7])\n",
    "b = np.array([1, 3, 2, 9])\n",
    "media_aritmetica =  np.sum(a-b)/len(a)"
   ]
  },
  {
   "cell_type": "code",
   "execution_count": 9,
   "id": "8cc8a125-da35-4dc3-8623-719a520ba0ca",
   "metadata": {},
   "outputs": [
    {
     "name": "stdout",
     "output_type": "stream",
     "text": [
      "La media aritmética de la diferencia (a-b) es: -0.25\n"
     ]
    }
   ],
   "source": [
    "print(\"La media aritmética de la diferencia (a-b) es: {mean}\".format(mean = media_aritmetica ) )"
   ]
  },
  {
   "cell_type": "markdown",
   "id": "6b904384-de1e-4a07-9560-fe103428acd0",
   "metadata": {},
   "source": [
    "##### 5) Tengo valores de cordenadas (x, y) en las columnas del array\n",
    "> * [[1.33, 4.5],[30.0 ,10.7], [70.2 ,0.5]]\n",
    "> * Agregue a este array las coordenadas (37.1, -3.6). Muestre en pantalla las dimensiones del nuevo array."
   ]
  },
  {
   "cell_type": "code",
   "execution_count": 10,
   "id": "34ac259d-38c1-41cb-8e5b-7b6fd1546ca6",
   "metadata": {},
   "outputs": [],
   "source": [
    "coordenadas = np.array([[1.33,4.5],[30.0,10.7],[70.2,0.5]])"
   ]
  },
  {
   "cell_type": "code",
   "execution_count": 11,
   "id": "9576fe12-7170-416a-b862-1475fee8f9b8",
   "metadata": {},
   "outputs": [
    {
     "name": "stdout",
     "output_type": "stream",
     "text": [
      "Las nuevas coordenadas son : [[ 1.33  4.5 ]\n",
      " [30.   10.7 ]\n",
      " [70.2   0.5 ]\n",
      " [37.1  -3.6 ]]\n"
     ]
    }
   ],
   "source": [
    "nuevas_coordenadas =np.array([37.1,-3.6])\n",
    "coordenadas = np.append(coordenadas, [nuevas_coordenadas], axis = 0)\n",
    "print(\"Las nuevas coordenadas son : {coor}\".format(coor=coordenadas))"
   ]
  },
  {
   "cell_type": "markdown",
   "id": "8aea4a2b-ea1d-4ef9-80c6-8fdd4af7fad9",
   "metadata": {},
   "source": [
    "##### 6) Copie el array del ejercicio anterior. Traspóngalo (. Agregue ahora dos nuevos pares de coordenadas: (10.8, 3.0) y (35.8, 12.0)."
   ]
  },
  {
   "cell_type": "code",
   "execution_count": 12,
   "id": "beb950cf-163e-43a7-b80e-7dc792b5b8b9",
   "metadata": {},
   "outputs": [
    {
     "data": {
      "text/plain": [
       "array([[ 1.33, 30.  , 70.2 , 37.1 ],\n",
       "       [ 4.5 , 10.7 ,  0.5 , -3.6 ]])"
      ]
     },
     "execution_count": 12,
     "metadata": {},
     "output_type": "execute_result"
    }
   ],
   "source": [
    "transpuesta = np.transpose(coordenadas)\n",
    "transpuesta"
   ]
  },
  {
   "cell_type": "code",
   "execution_count": 13,
   "id": "2276516d-eb95-406c-a89c-795bc43ec21e",
   "metadata": {},
   "outputs": [
    {
     "name": "stdout",
     "output_type": "stream",
     "text": [
      "[[ 1.33 30.   70.2  37.1  10.8  35.8 ]\n",
      " [ 4.5  10.7   0.5  -3.6   3.   12.  ]]\n"
     ]
    }
   ],
   "source": [
    "nue1 = np.array([[10.8,3.0],[35.8,12.0]] )\n",
    "nuevas_coordenadas2 = np.append(transpuesta,np.atleast_2d(nue1).T, axis=1 )\n",
    "print(nuevas_coordenadas2)"
   ]
  },
  {
   "cell_type": "markdown",
   "id": "7f8deeb7-95ce-4ffe-9e82-231e9fe861a1",
   "metadata": {},
   "source": [
    "#### Parte 2: Exploración y Minería de Datos:\n",
    "Con el dataset nucleospoblacion.csv adjunto al laboratorio, luego responda las siguientes preguntas usando pandas y matplotlib."
   ]
  },
  {
   "cell_type": "code",
   "execution_count": 47,
   "id": "2167901c-426b-4c6b-b684-052c36b70c30",
   "metadata": {},
   "outputs": [],
   "source": [
    "df = pd.read_csv(\"NucleosPoblacion.csv\")"
   ]
  },
  {
   "cell_type": "code",
   "execution_count": 48,
   "id": "4ac717f3-d6d8-4a23-b0a8-0167f8295df3",
   "metadata": {},
   "outputs": [],
   "source": [
    "# pasando las nombres de las columnas a minuscula para la facilidad de manejar los datos\n",
    "name_columns = []\n",
    "for i in df.columns:\n",
    "    name_columns.append(i.lower())\n",
    "df = df.rename(columns = dict(zip(df.columns, name_columns)) )\n",
    "# Pasando los datos de la población a numeros enteros\n",
    "df['poblacion'] = df.poblacion.astype(int)\n",
    "df['codmun'] = df.codmun.astype(int)\n",
    "df['codprovin'] = df.codprovin.astype(int)\n",
    "df['provincia'] = df.provincia.astype(str)"
   ]
  },
  {
   "cell_type": "markdown",
   "id": "1847ed50-cd4f-42e0-8f95-243ef2dc7b32",
   "metadata": {},
   "source": [
    "#### 1) ¿Cuántos Municipios tienen más de 100,000 habitantes?."
   ]
  },
  {
   "cell_type": "code",
   "execution_count": 16,
   "id": "e510a943-7e54-47be-ac2c-794ed43e6c9c",
   "metadata": {},
   "outputs": [
    {
     "name": "stdout",
     "output_type": "stream",
     "text": [
      "74 municipios tienen más de 100,000 habitantes\n"
     ]
    }
   ],
   "source": [
    "def habitantes(data):\n",
    "    hab = data.groupby(by = ['codmun']).agg({'poblacion': 'sum'} )\n",
    "    hab = hab[hab.poblacion >100000]\n",
    "    return print(\"{hab} municipios tienen más de 100,000 habitantes\".format(hab=len(hab)))\n",
    "habitantes(df)   "
   ]
  },
  {
   "cell_type": "markdown",
   "id": "f03d0d8f-abae-425e-aa0d-109954c55036",
   "metadata": {},
   "source": [
    "#### 2) Realice una gráfica de barras sobre la población de cada ciudad, ordenela de menor a mayor y responda:\n",
    "> 1. ¿Cuál es la segunda ciudad más poblada?\n",
    "> 2. ¿Qué posición ocupa Granada en el ranking de las ciudades más pobladas?"
   ]
  },
  {
   "cell_type": "code",
   "execution_count": 17,
   "id": "65c0aa7a-913d-4105-b235-dc47407a38cb",
   "metadata": {},
   "outputs": [
    {
     "data": {
      "image/png": "[encoded data removed]",
      "text/plain": [
       "<Figure size 1000x600 with 1 Axes>"
      ]
     },
     "metadata": {},
     "output_type": "display_data"
    }
   ],
   "source": [
    "df1 = df.groupby('provincia').agg({'poblacion': 'sum'}).sort_values('poblacion', ascending = True)\n",
    "plt.figure(figsize=(10, 6))\n",
    "plt.bar(df1.index, df1['poblacion'])\n",
    "plt.xticks(rotation=90, fontsize=8) # Rotamos las etiquetas del eje x para que se vean mejor\n",
    "plt.show()"
   ]
  },
  {
   "cell_type": "code",
   "execution_count": 18,
   "id": "b1ed6951-adf7-4248-b007-efa7832afd0b",
   "metadata": {},
   "outputs": [
    {
     "name": "stdout",
     "output_type": "stream",
     "text": [
      "La segunda ciudad más poblada es: Barcelona\n"
     ]
    }
   ],
   "source": [
    "# 1.¿Cuál es la segunda ciudad más poblada?\n",
    "print(\"La segunda ciudad más poblada es: {ciudad}\".format(ciudad = df1.index[len(df1)-2] ))"
   ]
  },
  {
   "cell_type": "code",
   "execution_count": 19,
   "id": "cc19ff77-206a-4dac-9b90-ab8ab71ca5de",
   "metadata": {},
   "outputs": [
    {
     "name": "stdout",
     "output_type": "stream",
     "text": [
      "Granada ocupa el puesto 17 en el ranking de las ciudades más pobladas\n"
     ]
    }
   ],
   "source": [
    "posicion = len(df1)\n",
    "for i, ciudad in enumerate(df1.sort_values('poblacion', ascending = False).index):\n",
    "    if ciudad == 'Granada':\n",
    "        posicion = i+1\n",
    "print('Granada ocupa el puesto', posicion, 'en el ranking de las ciudades más pobladas')"
   ]
  },
  {
   "cell_type": "markdown",
   "id": "f1684995-df79-4c71-8b2b-aaa6ffd64c78",
   "metadata": {},
   "source": [
    "#### 3) ¿Cuántos municipios de Extremadura tienen más de 5,000 habitantes?."
   ]
  },
  {
   "cell_type": "code",
   "execution_count": 20,
   "id": "477655bb-256f-4c33-ae31-700386423f0f",
   "metadata": {},
   "outputs": [
    {
     "name": "stdout",
     "output_type": "stream",
     "text": [
      "14 municipios de Extremadura tienen más de 5,000 habitantes\n"
     ]
    }
   ],
   "source": [
    "def Extremadura(data):\n",
    "    df = data[(data.provincia == \"Cáceres\")| (data.provincia == \"Badajoz\")  & (data.poblacion > 5000)]\n",
    "    return print(\"{mun} municipios de Extremadura tienen más de 5,000 habitantes\".format(mun = len(df)) )\n",
    "Extremadura(df)"
   ]
  },
  {
   "cell_type": "markdown",
   "id": "b6e9655d-d88a-40e0-8f1c-d76264af8efd",
   "metadata": {},
   "source": [
    "#### 4) ¿Cuál es el municipio situado más al Norte? (Usar el valor de la coordenada \"Y\" que representa la latitud en grados). Proporcione también la provincia a la que pertenece y su población."
   ]
  },
  {
   "cell_type": "code",
   "execution_count": 23,
   "id": "beddce3d-0cfd-4c94-a9cd-ffb15761239b",
   "metadata": {},
   "outputs": [
    {
     "name": "stdout",
     "output_type": "stream",
     "text": [
      "El municipio situado más al norte es Viveiro, pertenece a la provincia de Lugo. La población es de 16211.  \n"
     ]
    }
   ],
   "source": [
    "municipio_norte = df.loc[df['y'].idxmax()]\n",
    "dfa= pd.DataFrame(municipio_norte).reset_index(inplace = False).rename(columns={104:\"informacion\", \"index\":\"data\"} )\n",
    "print(\"El municipio situado más al norte es {}, pertenece a la provincia de {}. La población es de {}.  \"\\\n",
    "      .format(dfa.iloc[5,1],dfa.iloc[7,1],dfa.iloc[3,1]  ) )"
   ]
  },
  {
   "cell_type": "markdown",
   "id": "7fe5c99c-1f03-4f0b-b9af-882be0088620",
   "metadata": {},
   "source": [
    "#### 5) Obtenga la media, mediana, desviación estándar, valor máximo y valor mínimo de la población de los municipios de la provincia de Granada."
   ]
  },
  {
   "cell_type": "code",
   "execution_count": 45,
   "id": "292f3375-7c0b-4944-a65d-e715673634e8",
   "metadata": {},
   "outputs": [
    {
     "data": {
      "text/html": [
       "<div>\n",
       "<style scoped>\n",
       "    .dataframe tbody tr th:only-of-type {\n",
       "        vertical-align: middle;\n",
       "    }\n",
       "\n",
       "    .dataframe tbody tr th {\n",
       "        vertical-align: top;\n",
       "    }\n",
       "\n",
       "    .dataframe thead th {\n",
       "        text-align: right;\n",
       "    }\n",
       "</style>\n",
       "<table border=\"1\" class=\"dataframe\">\n",
       "  <thead>\n",
       "    <tr style=\"text-align: right;\">\n",
       "      <th></th>\n",
       "      <th>poblacion</th>\n",
       "    </tr>\n",
       "  </thead>\n",
       "  <tbody>\n",
       "    <tr>\n",
       "      <th>media</th>\n",
       "      <td>30218.0</td>\n",
       "    </tr>\n",
       "    <tr>\n",
       "      <th>mediana</th>\n",
       "      <td>17526.0</td>\n",
       "    </tr>\n",
       "    <tr>\n",
       "      <th>desviacion_estandar</th>\n",
       "      <td>50355.0</td>\n",
       "    </tr>\n",
       "    <tr>\n",
       "      <th>valor_maximo</th>\n",
       "      <td>239154.0</td>\n",
       "    </tr>\n",
       "    <tr>\n",
       "      <th>valor_minimo</th>\n",
       "      <td>10386.0</td>\n",
       "    </tr>\n",
       "  </tbody>\n",
       "</table>\n",
       "</div>"
      ],
      "text/plain": [
       "                     poblacion\n",
       "media                  30218.0\n",
       "mediana                17526.0\n",
       "desviacion_estandar    50355.0\n",
       "valor_maximo          239154.0\n",
       "valor_minimo           10386.0"
      ]
     },
     "execution_count": 45,
     "metadata": {},
     "output_type": "execute_result"
    }
   ],
   "source": [
    "df[df.provincia == \"Granada\"].agg(\n",
    "    media=('poblacion', 'mean'),\n",
    "    mediana=('poblacion', 'median'),\n",
    "    desviacion_estandar=('poblacion', 'std'),\n",
    "    valor_maximo=('poblacion', 'max'),\n",
    "    valor_minimo=('poblacion', 'min')\n",
    ").round(0)"
   ]
  },
  {
   "cell_type": "markdown",
   "id": "2daaf2f9-bd99-48eb-8332-3b2276932599",
   "metadata": {},
   "source": [
    "#### 6) Realice un histograma con la población de los Municipios para cada una de las provincias."
   ]
  },
  {
   "cell_type": "code",
   "execution_count": 25,
   "id": "379cdb8b-6327-4959-a8b6-0fddc5d969a9",
   "metadata": {},
   "outputs": [],
   "source": [
    "def histogramas(df):\n",
    "    provincias = list(df['provincia'].unique())\n",
    "    for i in range(0, len(provincias)):\n",
    "        df_p = df[df['provincia'] == str(provincias[i]) ]\n",
    "        fig, ax = plt.subplots()\n",
    "        ax.hist(df_p['poblacion'])\n",
    "        ax.set_title(\"Histograma de la población - Provincia {pro}\".format(pro =provincias[i]), fontsize=10 )\n",
    "        ax.set_xlabel(\"Invervalo de la población \", fontsize=8)\n",
    "        ax.set_ylabel(\"Frecuencia\", fontsize=8)\n",
    "        plt.xticks(fontsize=8)\n",
    "        plt.show()       "
   ]
  },
  {
   "cell_type": "code",
   "execution_count": null,
   "id": "9ccfe3b1-1f67-497b-adf9-48c41950c960",
   "metadata": {},
   "outputs": [],
   "source": [
    "#histogramas(df)"
   ]
  },
  {
   "cell_type": "markdown",
   "id": "53f84fc4-a6c4-4ac5-aea8-fc4d6754e39f",
   "metadata": {},
   "source": [
    "#### 7) Seleccione al azar cincuenta municipios diferentes de entre los diponibles en el archivo. Asegúrese de que no se repitan. ¿Luego calcule el promedio de la población y la desviación estándar de esto 50 municipios?."
   ]
  },
  {
   "cell_type": "code",
   "execution_count": 43,
   "id": "e0c0db9f-bf0e-446c-950d-9a29e42a5967",
   "metadata": {},
   "outputs": [],
   "source": [
    "def selec_azar(df):\n",
    "    df_azar = df.groupby(by = ['codmun', 'municipio'])\\\n",
    "                .agg({'poblacion': 'sum'}).reset_index(drop = False)\\\n",
    "                .sample(n=50, replace = False).reset_index(drop = True)\\\n",
    "                .agg( media= ('poblacion', 'mean'),desviacion_estandar=('poblacion', 'std') ).round(0)\n",
    "    return df_azar"
   ]
  },
  {
   "cell_type": "code",
   "execution_count": 44,
   "id": "d1cfeb81-c878-415b-82e4-d4f2fe4e658f",
   "metadata": {},
   "outputs": [
    {
     "data": {
      "text/html": [
       "<div>\n",
       "<style scoped>\n",
       "    .dataframe tbody tr th:only-of-type {\n",
       "        vertical-align: middle;\n",
       "    }\n",
       "\n",
       "    .dataframe tbody tr th {\n",
       "        vertical-align: top;\n",
       "    }\n",
       "\n",
       "    .dataframe thead th {\n",
       "        text-align: right;\n",
       "    }\n",
       "</style>\n",
       "<table border=\"1\" class=\"dataframe\">\n",
       "  <thead>\n",
       "    <tr style=\"text-align: right;\">\n",
       "      <th></th>\n",
       "      <th>poblacion</th>\n",
       "    </tr>\n",
       "  </thead>\n",
       "  <tbody>\n",
       "    <tr>\n",
       "      <th>media</th>\n",
       "      <td>50076.0</td>\n",
       "    </tr>\n",
       "    <tr>\n",
       "      <th>desviacion_estandar</th>\n",
       "      <td>68523.0</td>\n",
       "    </tr>\n",
       "  </tbody>\n",
       "</table>\n",
       "</div>"
      ],
      "text/plain": [
       "                     poblacion\n",
       "media                  50076.0\n",
       "desviacion_estandar    68523.0"
      ]
     },
     "execution_count": 44,
     "metadata": {},
     "output_type": "execute_result"
    }
   ],
   "source": [
    "selec_azar(df)"
   ]
  },
  {
   "cell_type": "markdown",
   "id": "a2190d98-2da9-4774-8ace-739ad99df905",
   "metadata": {},
   "source": [
    "#### 8) Dígame los nombres de los Municipios más cercano y más lejano a Madrid. Para ello debe calcular la distancia en todos ellos y Madrid. No considere a Madrid en el análisis ya que la distancia sería cero."
   ]
  },
  {
   "cell_type": "markdown",
   "id": "a5726ba8-68af-4503-be5c-b8dcc4c31d3e",
   "metadata": {},
   "source": [
    "##### Fórmula Haversina\n",
    "\n",
    "La fórmula de Haversine es una ecuación matemática utilizada para calcular la distancia en una esfera entre dos puntos que se encuentran en su superficie. En particular, es muy útil para calcular distancias entre puntos en la Tierra, que es aproximadamente una esfera. La fórmula se llama así por el matemático británico del siglo XIX, Edward Haversine, que fue el primero en publicarla.\n",
    "\n",
    "La fórmula de Haversine utiliza las coordenadas de latitud y longitud de dos puntos para calcular su distancia a través de la curvatura de la Tierra."
   ]
  },
  {
   "cell_type": "code",
   "execution_count": 68,
   "id": "18f0bb2c-33c9-4fde-95c9-ebf50ccec940",
   "metadata": {},
   "outputs": [],
   "source": [
    "def distancia(lat1, lon1, lat2, lon2):\n",
    "    R = 6371  # Es el radio de la Tierra en km. Cuando se calcule se sabra cuanta distancia hay en km\n",
    "    # Formula de la ecuación de Haversina\n",
    "    dLat = np.radians(lat2 - lat1)\n",
    "    dLon = np.radians(lon2 - lon1)\n",
    "    a = np.sin(dLat / 2) * np.sin(dLat / 2) + np.cos(np.radians(lat1)) * np.cos(np.radians(lat2)) * np.sin(dLon / 2) * np.sin(dLon / 2)\n",
    "    c = 2 * np.arctan2(np.sqrt(a), np.sqrt(1 - a))\n",
    "    d = R * c\n",
    "    return d\n",
    "\n",
    "# coordenadas de Madrid para agregarlas a la función\n",
    "madrid_lat, madrid_lon = 40.480332, -3.369251\n",
    "\n",
    "#Latitud de madrid =  40.480332\n",
    "#Longitud de madrid =  -3.369251"
   ]
  },
  {
   "cell_type": "code",
   "execution_count": 79,
   "id": "1ff7b0fe-dc7a-4f6f-838c-08145a479974",
   "metadata": {},
   "outputs": [],
   "source": [
    "# calcular la distancia entre cada municipio y Madrid y agregarla como una nueva columna al DataFrame\n",
    "df_nuevo = df[df['provincia'] != \"Madrid\"].drop_duplicates(subset=['codmun']) \n",
    "df_nuevo['dist_a_madrid'] = df_nuevo.apply(lambda columna: distancia(madrid_lat,  madrid_lon, columna['y'], columna['x']), axis=1)\n"
   ]
  },
  {
   "cell_type": "markdown",
   "id": "5c84f08a-76da-4d2f-9c5f-70371438cb89",
   "metadata": {},
   "source": [
    "##### Los 10 municipios más lejanos"
   ]
  },
  {
   "cell_type": "code",
   "execution_count": 92,
   "id": "fe53c221-ebfe-4778-9c02-cc16887358a8",
   "metadata": {},
   "outputs": [],
   "source": [
    "df_nuevo = df_nuevo.sort_values('dist_a_madrid',ascending = False).reset_index()"
   ]
  },
  {
   "cell_type": "code",
   "execution_count": 94,
   "id": "55d8a8bf-0c97-4ade-b4fe-bf13b376c15e",
   "metadata": {},
   "outputs": [
    {
     "name": "stdout",
     "output_type": "stream",
     "text": [
      "                municipio  dist_a_madrid\n",
      "0   Los Llanos de Aridane    1866.335175\n",
      "1  Santa Cruz de la Palma    1854.609886\n",
      "2                   Adeje    1838.289604\n",
      "3                   Arona    1836.958284\n",
      "4           Guía de Isora    1833.512617\n",
      "5     San Miguel de Abona    1833.040481\n",
      "6     Granadilla de Abona    1828.949861\n",
      "7      Santiago del Teide    1828.292786\n",
      "8       Icod de los Vinos    1815.633792\n",
      "9            Los Realejos    1806.934564\n"
     ]
    }
   ],
   "source": [
    "print(df_nuevo[['municipio','dist_a_madrid']].head(10))"
   ]
  },
  {
   "cell_type": "markdown",
   "id": "d15bb803-631e-4473-9882-bb13639b4149",
   "metadata": {},
   "source": [
    "##### Los 10 municipios más cercanos"
   ]
  },
  {
   "cell_type": "code",
   "execution_count": 96,
   "id": "5ccf6627-831f-4615-9456-cc9fd88d1836",
   "metadata": {},
   "outputs": [],
   "source": [
    "df_nuevo = df_nuevo.sort_values('dist_a_madrid',ascending = True).reset_index()"
   ]
  },
  {
   "cell_type": "code",
   "execution_count": 97,
   "id": "2a22c286-1c5b-4479-b516-317d98c52306",
   "metadata": {},
   "outputs": [
    {
     "name": "stdout",
     "output_type": "stream",
     "text": [
      "             municipio  dist_a_madrid\n",
      "0  Azuqueca de Henares      13.337421\n",
      "1              Alovera      16.565713\n",
      "2          Guadalajara      24.486194\n",
      "3             El Casar      25.173173\n",
      "4               Seseña      50.308346\n",
      "5             Illescas      56.794513\n",
      "6                Ocaña      58.881893\n",
      "7             Tarancón      60.742794\n",
      "8              Segovia      82.374443\n",
      "9           Fuensalida      85.815320\n"
     ]
    }
   ],
   "source": [
    "print(df_nuevo[['municipio','dist_a_madrid']].head(10))"
   ]
  },
  {
   "cell_type": "code",
   "execution_count": null,
   "id": "edab0329-4fcb-48fd-9176-06517d5ff85b",
   "metadata": {},
   "outputs": [],
   "source": []
  }
 ],
 "metadata": {
  "kernelspec": {
   "display_name": "Python 3 (ipykernel)",
   "language": "python",
   "name": "python3"
  },
  "language_info": {
   "codemirror_mode": {
    "name": "ipython",
    "version": 3
   },
   "file_extension": ".py",
   "mimetype": "text/x-python",
   "name": "python",
   "nbconvert_exporter": "python",
   "pygments_lexer": "ipython3",
   "version": "3.9.13"
  }
 },
 "nbformat": 4,
 "nbformat_minor": 5
}
